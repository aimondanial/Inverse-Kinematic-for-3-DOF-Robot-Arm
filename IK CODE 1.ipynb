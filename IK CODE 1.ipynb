{
 "cells": [
  {
   "cell_type": "code",
   "execution_count": 4,
   "metadata": {},
   "outputs": [
    {
     "ename": "ValueError",
     "evalue": "could not convert string to float: ''",
     "output_type": "error",
     "traceback": [
      "\u001b[1;31m---------------------------------------------------------------------------\u001b[0m",
      "\u001b[1;31mValueError\u001b[0m                                Traceback (most recent call last)",
      "Cell \u001b[1;32mIn[4], line 47\u001b[0m\n\u001b[0;32m     42\u001b[0m     gamma \u001b[38;5;241m=\u001b[39m math\u001b[38;5;241m.\u001b[39mdegrees(gamma)\n\u001b[0;32m     45\u001b[0m     \u001b[38;5;28;01mreturn\u001b[39;00m alpha, beta, gamma\n\u001b[1;32m---> 47\u001b[0m base, arm1, arm2 \u001b[38;5;241m=\u001b[39m \u001b[43m[\u001b[49m\u001b[38;5;28;43mfloat\u001b[39;49m\u001b[43m(\u001b[49m\u001b[43mx\u001b[49m\u001b[43m)\u001b[49m\u001b[43m \u001b[49m\u001b[38;5;28;43;01mfor\u001b[39;49;00m\u001b[43m \u001b[49m\u001b[43mx\u001b[49m\u001b[43m \u001b[49m\u001b[38;5;129;43;01min\u001b[39;49;00m\u001b[43m \u001b[49m\u001b[38;5;28;43minput\u001b[39;49m\u001b[43m(\u001b[49m\u001b[38;5;124;43m\"\u001b[39;49m\u001b[38;5;124;43mEnter length of base and arm1 and arm2: \u001b[39;49m\u001b[38;5;124;43m\"\u001b[39;49m\u001b[43m)\u001b[49m\u001b[38;5;241;43m.\u001b[39;49m\u001b[43msplit\u001b[49m\u001b[43m(\u001b[49m\u001b[38;5;124;43m\"\u001b[39;49m\u001b[38;5;124;43m \u001b[39;49m\u001b[38;5;124;43m\"\u001b[39;49m\u001b[43m)\u001b[49m\u001b[43m]\u001b[49m\n\u001b[0;32m     50\u001b[0m x, y, z \u001b[38;5;241m=\u001b[39m [\u001b[38;5;28mint\u001b[39m(x) \u001b[38;5;28;01mfor\u001b[39;00m x \u001b[38;5;129;01min\u001b[39;00m \u001b[38;5;28minput\u001b[39m(\u001b[38;5;124m\"\u001b[39m\u001b[38;5;124mEnter coordinate value of x,y,z for the end effector reach \u001b[39m\u001b[38;5;124m\"\u001b[39m)\u001b[38;5;241m.\u001b[39msplit(\u001b[38;5;124m\"\u001b[39m\u001b[38;5;124m \u001b[39m\u001b[38;5;124m\"\u001b[39m)]\n\u001b[0;32m     52\u001b[0m \u001b[38;5;28;01mif\u001b[39;00m ((math\u001b[38;5;241m.\u001b[39msqrt(x\u001b[38;5;241m*\u001b[39m\u001b[38;5;241m*\u001b[39m\u001b[38;5;241m2\u001b[39m \u001b[38;5;241m+\u001b[39m y\u001b[38;5;241m*\u001b[39m\u001b[38;5;241m*\u001b[39m\u001b[38;5;241m2\u001b[39m \u001b[38;5;241m+\u001b[39m (z\u001b[38;5;241m-\u001b[39mbase)\u001b[38;5;241m*\u001b[39m\u001b[38;5;241m*\u001b[39m\u001b[38;5;241m2\u001b[39m)) \u001b[38;5;241m<\u001b[39m\u001b[38;5;241m=\u001b[39m arm1 \u001b[38;5;241m+\u001b[39m arm2):\n",
      "Cell \u001b[1;32mIn[4], line 47\u001b[0m, in \u001b[0;36m<listcomp>\u001b[1;34m(.0)\u001b[0m\n\u001b[0;32m     42\u001b[0m     gamma \u001b[38;5;241m=\u001b[39m math\u001b[38;5;241m.\u001b[39mdegrees(gamma)\n\u001b[0;32m     45\u001b[0m     \u001b[38;5;28;01mreturn\u001b[39;00m alpha, beta, gamma\n\u001b[1;32m---> 47\u001b[0m base, arm1, arm2 \u001b[38;5;241m=\u001b[39m [\u001b[38;5;28;43mfloat\u001b[39;49m\u001b[43m(\u001b[49m\u001b[43mx\u001b[49m\u001b[43m)\u001b[49m \u001b[38;5;28;01mfor\u001b[39;00m x \u001b[38;5;129;01min\u001b[39;00m \u001b[38;5;28minput\u001b[39m(\u001b[38;5;124m\"\u001b[39m\u001b[38;5;124mEnter length of base and arm1 and arm2: \u001b[39m\u001b[38;5;124m\"\u001b[39m)\u001b[38;5;241m.\u001b[39msplit(\u001b[38;5;124m\"\u001b[39m\u001b[38;5;124m \u001b[39m\u001b[38;5;124m\"\u001b[39m)]\n\u001b[0;32m     50\u001b[0m x, y, z \u001b[38;5;241m=\u001b[39m [\u001b[38;5;28mint\u001b[39m(x) \u001b[38;5;28;01mfor\u001b[39;00m x \u001b[38;5;129;01min\u001b[39;00m \u001b[38;5;28minput\u001b[39m(\u001b[38;5;124m\"\u001b[39m\u001b[38;5;124mEnter coordinate value of x,y,z for the end effector reach \u001b[39m\u001b[38;5;124m\"\u001b[39m)\u001b[38;5;241m.\u001b[39msplit(\u001b[38;5;124m\"\u001b[39m\u001b[38;5;124m \u001b[39m\u001b[38;5;124m\"\u001b[39m)]\n\u001b[0;32m     52\u001b[0m \u001b[38;5;28;01mif\u001b[39;00m ((math\u001b[38;5;241m.\u001b[39msqrt(x\u001b[38;5;241m*\u001b[39m\u001b[38;5;241m*\u001b[39m\u001b[38;5;241m2\u001b[39m \u001b[38;5;241m+\u001b[39m y\u001b[38;5;241m*\u001b[39m\u001b[38;5;241m*\u001b[39m\u001b[38;5;241m2\u001b[39m \u001b[38;5;241m+\u001b[39m (z\u001b[38;5;241m-\u001b[39mbase)\u001b[38;5;241m*\u001b[39m\u001b[38;5;241m*\u001b[39m\u001b[38;5;241m2\u001b[39m)) \u001b[38;5;241m<\u001b[39m\u001b[38;5;241m=\u001b[39m arm1 \u001b[38;5;241m+\u001b[39m arm2):\n",
      "\u001b[1;31mValueError\u001b[0m: could not convert string to float: ''"
     ]
    }
   ],
   "source": [
    "import math\n",
    "import matplotlib.pyplot as plt\n",
    "\n",
    "def getPoint(x, y, z, base, arm1, arm2, alpha):\n",
    "\n",
    "    e = (x**2 + y**2 + z**2 - base**2 + arm1**2 - arm2**2)/2\n",
    "\n",
    "    if(x!=0 or y!=0):\n",
    "        a1 = ((((z-base)**2)*(1+math.tan(alpha)**2))/((x + y*math.tan(alpha))**2)) + 1\n",
    "        b1 = 2*((e*(z-base)*(1 + math.tan(alpha)**2))/((x + y*math.tan(alpha))**2) + base)\n",
    "        c1 = ((e**2)*(1 + math.tan(alpha)**2))/((x + y*math.tan(alpha))**2) + base**2 - arm1**2\n",
    "\n",
    "        d1 = (b1**2 - 4*a1*c1)**0.5\n",
    "\n",
    "        c = (b1 + d1)/(2*a1)\n",
    "        a = (e - c*(z-base))/(x + y*math.tan(alpha))\n",
    "        b = a*math.tan(alpha)\n",
    "    else:\n",
    "        a = 0\n",
    "        b = 0\n",
    "        c = 50\n",
    "    return a, b, c\n",
    "    \n",
    "def getAngle(x, y, z, base, arm1, arm2):\n",
    "\n",
    "    d = (x**2 + y**2 + (z-base)**2)**0.5\n",
    "\n",
    "    if(x!=0):\n",
    "        alpha = math.atan(y/x)\n",
    "    else:\n",
    "        alpha = math.pi/2\n",
    "\n",
    "    theta1 = math.asin((z-base)/d)\n",
    "    theta2 = math.acos((arm1**2 + d**2 - arm2**2)/(2*arm1*d))\n",
    "    \n",
    "    beta =  theta1 + theta2\n",
    "\n",
    "    gamma = math.acos((arm1**2 + arm2**2 - d**2)/(2*arm1*arm2))\n",
    "\n",
    "    alpha = math.degrees(alpha)\n",
    "    beta = math.degrees(beta)\n",
    "    gamma = math.degrees(gamma)\n",
    "\n",
    "    \n",
    "    return alpha, beta, gamma\n",
    "    \n",
    "arm1, arm2, arm3 = [float(x) for x in input(\"Enter length of base and arm1 and arm2: \").split(\" \")]\n",
    "\n",
    "\n",
    "x, y, z = [int(x) for x in input(\"Enter coordinate value of x,y,z for the end effector reach \").split(\" \")]\n",
    "\n",
    "if ((math.sqrt(x**2 + y**2 + (z-base)**2)) <= arm1 + arm2):\n",
    "\n",
    "    fig = plt.figure()\n",
    "    ax = fig.add_subplot(111)\n",
    "    \n",
    "    angArm1, angArm2, angArm3 = getAngle(x, y, z, arm1, arm2 ,arm3)\n",
    "    pointX, pointY, pointZ = getPoint(x, y, z, arm1, arm2, arm3, angArm1)\n",
    "\n",
    "    point = [pointX,pointY,pointZ]\n",
    "    print(point);\n",
    "    \n",
    "    #enter the coordinate of the desired value\n",
    "\n",
    "    X = [0, 0, pointX, x]\n",
    "    Y = [0, 0, pointY, y]\n",
    "    Z = [0, arm1, pointZ, z]\n",
    "\n",
    "    print(\"Angle of Arm3 = \", angArm1)\n",
    "    print(\"Angle of Arm1 = \", angArm2)\n",
    "    print(\"Angle of Arm2 = \", angArm3)\n",
    "    \n",
    "    plt.plot(X,Y,Z)\n",
    "    plt.show()\n",
    "else:\n",
    "    print(\"The point cant be reached\")"
   ]
  },
  {
   "cell_type": "code",
   "execution_count": null,
   "metadata": {},
   "outputs": [],
   "source": []
  }
 ],
 "metadata": {
  "kernelspec": {
   "display_name": "Python 3",
   "language": "python",
   "name": "python3"
  },
  "language_info": {
   "codemirror_mode": {
    "name": "ipython",
    "version": 3
   },
   "file_extension": ".py",
   "mimetype": "text/x-python",
   "name": "python",
   "nbconvert_exporter": "python",
   "pygments_lexer": "ipython3",
   "version": "3.11.3"
  }
 },
 "nbformat": 4,
 "nbformat_minor": 2
}
